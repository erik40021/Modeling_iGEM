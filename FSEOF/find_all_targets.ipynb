{
 "cells": [
  {
   "cell_type": "markdown",
   "metadata": {},
   "source": [
    "# Find targets for overexpression & downregulation with FSEOF"
   ]
  },
  {
   "cell_type": "code",
   "execution_count": 1,
   "metadata": {},
   "outputs": [],
   "source": [
    "from cobra.io import read_sbml_model\n",
    "import cobra\n",
    "import pandas as pd\n",
    "import numpy as np\n",
    "from cobra.flux_analysis import flux_variability_analysis\n",
    "from scipy.optimize import curve_fit\n",
    "from FSEOF import FSEOF"
   ]
  },
  {
   "cell_type": "code",
   "execution_count": 4,
   "metadata": {},
   "outputs": [
    {
     "name": "stderr",
     "output_type": "stream",
     "text": [
      "'' is not a valid SBML 'SId'.\n",
      "'' is not a valid SBML 'SId'.\n"
     ]
    }
   ],
   "source": [
    "sc_cyto_gpp = FSEOF(\"../Data/sc_cyto_gpp_manipulated.xml\", \"r_2111\", \"r_apinene_con\")\n",
    "sc_cyto_npp = FSEOF(\"../Data/sc_cyto_npp_manipulated.xml\", \"r_2111\", \"r_apinene_con\")\n",
    "sc_perox = FSEOF(\"../Data/sc_perox_manipulated.xml\", \"r_2111\", \"r_apinene_con\")\n",
    "yl_cyto = FSEOF(\"../Data/yl_cyto_manipulated.xml\", \"Biomass_Climit\", \"aPinene_ex\")\n",
    "yl_perox = FSEOF(\"../Data/yl_perox_manipulated.xml\", \"Biomass_Climit\", \"r_apinene_con\")"
   ]
  },
  {
   "cell_type": "code",
   "execution_count": 5,
   "metadata": {},
   "outputs": [
    {
     "name": "stderr",
     "output_type": "stream",
     "text": [
      "/Applications/JupyterLab.app/Contents/Resources/jlab_server/lib/python3.8/site-packages/scipy/optimize/minpack.py:833: OptimizeWarning: Covariance of the parameters could not be estimated\n",
      "  warnings.warn('Covariance of the parameters could not be estimated',\n"
     ]
    }
   ],
   "source": [
    "sc_cyto_gpp.find_targets(30, useFVA=False)\n",
    "sc_cyto_npp.find_targets(30, useFVA=False)\n",
    "sc_perox.find_targets(30, useFVA=False)\n",
    "yl_cyto.find_targets(30, useFVA=False)\n",
    "yl_perox.find_targets(30, useFVA=False)"
   ]
  },
  {
   "cell_type": "code",
   "execution_count": 12,
   "metadata": {},
   "outputs": [],
   "source": [
    "sc_cyto_gpp.targets.sort_values(\"q_slope\", ascending=False, inplace=True)\n",
    "sc_cyto_npp.targets.sort_values(\"q_slope\", ascending=False, inplace=True)\n",
    "sc_perox.targets.sort_values(\"q_slope\", ascending=False, inplace=True)\n",
    "yl_cyto.targets.sort_values(\"q_slope\", ascending=False, inplace=True)\n",
    "yl_perox.targets.sort_values(\"q_slope\", ascending=False, inplace=True)"
   ]
  },
  {
   "cell_type": "code",
   "execution_count": 13,
   "metadata": {},
   "outputs": [],
   "source": [
    "sc_cyto_gpp.targets.to_excel(\"targets_sc_cyto_gpp_byFBA.xlsx\")\n",
    "sc_cyto_npp.targets.to_excel(\"targets_sc_cyto_npp_byFBA.xlsx\")\n",
    "sc_perox.targets.to_excel(\"targets_sc_perox_byFBA.xlsx\")\n",
    "yl_cyto.targets.to_excel(\"targets_yl_cyto_byFBA.xlsx\")\n",
    "yl_perox.targets.to_excel(\"targets_yl_perox_byFBA.xlsx\")"
   ]
  },
  {
   "cell_type": "code",
   "execution_count": null,
   "metadata": {},
   "outputs": [],
   "source": []
  }
 ],
 "metadata": {
  "kernelspec": {
   "display_name": "Python 3.8.12",
   "language": "python",
   "name": "python3"
  },
  "language_info": {
   "codemirror_mode": {
    "name": "ipython",
    "version": 3
   },
   "file_extension": ".py",
   "mimetype": "text/x-python",
   "name": "python",
   "nbconvert_exporter": "python",
   "pygments_lexer": "ipython3",
   "version": "3.8.12"
  },
  "orig_nbformat": 4,
  "vscode": {
   "interpreter": {
    "hash": "34368ba4908ea1be08ba769dfb7764ab7f8ead2384ebb5604cb86637573696f7"
   }
  }
 },
 "nbformat": 4,
 "nbformat_minor": 2
}
