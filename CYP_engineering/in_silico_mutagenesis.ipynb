{
 "cells": [
  {
   "cell_type": "code",
   "execution_count": 3,
   "metadata": {},
   "outputs": [],
   "source": [
    "BM3 = \"MTIKEMPQPKTFGELKNLPLLNTDKPVQALMKIADELGEIFKFEAPGRVTRYLSSQRLIKEACDESRFDKNLSQALKFVRDFAGDGLFTSWTHEKNWKKAHNILLPSFSQQAMKGYHAMMVDIAVQLVQKWERLNADEHIEVPEDMTRLTLDTIGLCGFNYRFNSFYRDQPHPFITSMVRALDEAMNKLQRANPDDPAYDENKRQFQEDIKVMNDLVDKIIADRKASGEQSDDLLTHMLNGKDPETGEPLDDENIRYQIITFLIAGHETTSGLLSFALYFLVKNPHVLQKAAEEAARVLVDPVPSYKQVKQLKYVGMVLNEALRLWPTAPAFSLYAKEDTVLGGEYPLEKGDELMVLIPQLHRDKTIWGDDVEEFRPERFENPSAIPQHAFKPFGNGQRACIGQQFALHEATLVLGMMLKHFDFEDHTNYELDIKETLTLKPEGFVVKAKSKKIPLGGIPSPSTEQSAKKVRKKAENAHNTPLLVLYGSNMGTAEGTARDLADIAMSKGFAPQVATLDSHAGNLPREGAVLIVTASYNGHPPDNAKQFVDWLDQASADEVKGVRYSVFGCGDKNWATTYQKVPAFIDETLAAKGAENIADRGEADASDDFEGTYEEWREHMWSDVAAYFNLDIENSEDNKSTLSLQFVDSAADMPLAKMHGAFSTNVVASKELQQPGSARSTRHLEIELPKEASYQEGDHLGVIPRNYEGIVNRVTARFGLDASQQIRLEAEEEKLAHLPLAKTVSVEELLQYVELQDPVTRTQLRAMAAKTVCPPHKVELEALLEKQAYKEQVLAKRLTMLELLEKYPACEMKFSEFIALLPSIRPRYYSISSSPRVDEKQASITVSVVSGEAWSGYGEYKGIASNYLAELQEGDTITCFISTPQSEFTLPKDPETPLIMVGPGTGVAPFRGFVQARKQLKEQGQSLGEAHLYFGCRSPHEDYLYQEELENAQSEGIITLHTAFSRMPNQPKTYVQHVMEQDGKKLIELLDQGAHFYICGDGSQMAPAVEATLMKSYADVHQVSEADARLWLQQLEEKGRYAKDVWAG\"\n",
    "\n",
    "AminoAcids = [\"A\", \"R\", \"N\", \"D\", \"C\", \"Q\", \"E\", \"G\", \"H\", \"I\", \"L\", \"K\", \"M\", \"F\", \"P\", \"S\", \"T\", \"W\", \"Y\", \"V\"]\n",
    "\n",
    "SUBSTRATE_NAME = \"alpha-pinen\"\n",
    "SUBSTRATE_SMILES = \"CC1=CCC2CC1C2(C)C\"\n",
    "OUTPUT_FILENAME = \"combinatorial_test.tsv\""
   ]
  },
  {
   "cell_type": "code",
   "execution_count": 10,
   "metadata": {},
   "outputs": [],
   "source": [
    "def mutatePosition(position):\n",
    "    for AA in AminoAcids:\n",
    "        temp = list(BM3)\n",
    "        temp[position] = AA\n",
    "        temp = \"\".join(temp)\n",
    "\n",
    "        with open(OUTPUT_FILENAME, \"a\") as f:\n",
    "            f.write(\"{SUBSTRATE}\\t{SMILES}\\t{PROTEIN}\\n\".format(SUBSTRATE=SUBSTRATE_NAME, SMILES=SUBSTRATE_SMILES, PROTEIN=temp))\n",
    "    "
   ]
  },
  {
   "cell_type": "code",
   "execution_count": 5,
   "metadata": {},
   "outputs": [],
   "source": [
    "def combinatorialMutagenesis(positions):\n",
    "    for AA in AminoAcids:\n",
    "        temp = list(BM3)\n",
    "        temp[positions[0]] = AA\n",
    "        temp = \"\".join(temp)\n",
    "\n",
    "        with open(OUTPUT_FILENAME, \"a\") as f:\n",
    "            f.write(\"{SUBSTRATE}\\t{SMILES}\\t{PROTEIN}\\n\".format(SUBSTRATE=SUBSTRATE_NAME, SMILES=SUBSTRATE_SMILES, PROTEIN=temp))\n",
    "        \n",
    "        for AA in AminoAcids:\n",
    "            temp = list(BM3)\n",
    "            temp[positions[1]] = AA\n",
    "            temp = \"\".join(temp)\n",
    "\n",
    "            with open(OUTPUT_FILENAME, \"a\") as f:\n",
    "                f.write(\"{SUBSTRATE}\\t{SMILES}\\t{PROTEIN}\\n\".format(SUBSTRATE=SUBSTRATE_NAME, SMILES=SUBSTRATE_SMILES, PROTEIN=temp))\n",
    "\n",
    "            for AA in AminoAcids:\n",
    "                temp = list(BM3)\n",
    "                temp[positions[2]] = AA\n",
    "                temp = \"\".join(temp)\n",
    "\n",
    "                with open(OUTPUT_FILENAME, \"a\") as f:\n",
    "                    f.write(\"{SUBSTRATE}\\t{SMILES}\\t{PROTEIN}\\n\".format(SUBSTRATE=SUBSTRATE_NAME, SMILES=SUBSTRATE_SMILES, PROTEIN=temp))\n",
    "\n",
    "\n",
    "\n"
   ]
  },
  {
   "cell_type": "code",
   "execution_count": 6,
   "metadata": {},
   "outputs": [],
   "source": [
    "#combinatorialMutagenesis([86, 263, 327])"
   ]
  },
  {
   "cell_type": "code",
   "execution_count": 7,
   "metadata": {},
   "outputs": [],
   "source": [
    "import pandas as pd\n",
    "from matplotlib import pyplot as plt"
   ]
  },
  {
   "cell_type": "code",
   "execution_count": 14,
   "metadata": {},
   "outputs": [],
   "source": [
    "Kcat_combinatorial = pd.read_csv(\"20220729_BM3_combinatorial_test_LM.tsv\", delimiter=\"\\t\")"
   ]
  },
  {
   "cell_type": "code",
   "execution_count": 15,
   "metadata": {},
   "outputs": [
    {
     "data": {
      "text/plain": [
       "Text(0, 0.5, 'Number of mutants')"
      ]
     },
     "execution_count": 15,
     "metadata": {},
     "output_type": "execute_result"
    },
    {
     "data": {
      "image/png": "[encoded data removed]",
      "text/plain": [
       "<Figure size 432x288 with 1 Axes>"
      ]
     },
     "metadata": {
      "needs_background": "light"
     },
     "output_type": "display_data"
    }
   ],
   "source": [
    "plt.hist(Kcat_combinatorial[\"Kcat value (1/s)\"], bins=12)\n",
    "plt.xlabel(\"Kcat [1/s]\")\n",
    "plt.ylabel(\"Number of mutants\")"
   ]
  },
  {
   "cell_type": "code",
   "execution_count": 17,
   "metadata": {},
   "outputs": [
    {
     "data": {
      "text/plain": [
       "Text(0, 0.5, 'Number of mutants')"
      ]
     },
     "execution_count": 17,
     "metadata": {},
     "output_type": "execute_result"
    },
    {
     "data": {
      "image/png": "[encoded data removed]",
      "text/plain": [
       "<Figure size 432x288 with 1 Axes>"
      ]
     },
     "metadata": {
      "needs_background": "light"
     },
     "output_type": "display_data"
    }
   ],
   "source": [
    "Kcat_BM3L87X = pd.read_csv(\"20220728_BM3L87X_kcat_prediction_LM.tsv\", delimiter=\"\\t\")\n",
    "plt.hist(Kcat_BM3L87X[\"Kcat value (1/s)\"], bins=5)\n",
    "plt.xlabel(\"Kcat [1/s]\")\n",
    "plt.ylabel(\"Number of mutants\")"
   ]
  },
  {
   "cell_type": "code",
   "execution_count": null,
   "metadata": {},
   "outputs": [],
   "source": []
  }
 ],
 "metadata": {
  "kernelspec": {
   "display_name": "Python 3.8.12",
   "language": "python",
   "name": "python3"
  },
  "language_info": {
   "codemirror_mode": {
    "name": "ipython",
    "version": 3
   },
   "file_extension": ".py",
   "mimetype": "text/x-python",
   "name": "python",
   "nbconvert_exporter": "python",
   "pygments_lexer": "ipython3",
   "version": "3.8.12"
  },
  "orig_nbformat": 4,
  "vscode": {
   "interpreter": {
    "hash": "34368ba4908ea1be08ba769dfb7764ab7f8ead2384ebb5604cb86637573696f7"
   }
  }
 },
 "nbformat": 4,
 "nbformat_minor": 2
}
